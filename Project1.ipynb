{
  "nbformat": 4,
  "nbformat_minor": 0,
  "metadata": {
    "colab": {
      "provenance": []
    },
    "kernelspec": {
      "name": "python3",
      "display_name": "Python 3"
    },
    "language_info": {
      "name": "python"
    }
  },
  "cells": [
    {
      "cell_type": "code",
      "source": [
        "# username = input(\"Enter User Name: \")\n",
        "account = {\n",
        "     \"name\": \"areeb\",\n",
        "     \"balance\":0.0,\n",
        "     \"transaction\":[]\n",
        " }\n",
        "\n",
        "def deposit_Func(amount):\n",
        "  if amount > 0:\n",
        "    account[\"balance\"] += amount\n",
        "    with open(\"/content/sample_data/deposite.txt\",'a') as f:\n",
        "      f.write(\"transaction of Rs \"+ str(amount) +\" added to the history \\n \\n\")\n",
        "    return \"transaction added successfully of Rs \"+ str(amount)\n",
        "  else:\n",
        "    return \"transaction failed to deposite due to unsuffiecent balance\"\n",
        "\n",
        "def withDraw_function(withDrawAmounnt):\n",
        " currentAmount = account[\"balance\"]\n",
        " if account[\"balance\"] >= withDrawAmounnt & withDrawAmounnt > 0 :\n",
        "  account[\"balance\"] -= withDrawAmounnt\n",
        "  return \"transaction withdrwal sucessful of \"+ str(withDrawAmounnt)\n",
        " else:\n",
        "  return \"Balance is insufficent\"\n",
        "\n",
        "def check_Available_Balance():\n",
        "    return  \"Available Balance is: \"+str(account[\"balance\"])\n",
        "\n",
        "def display_transaction():\n",
        "  with open(\"/content/sample_data/deposite.txt\",'r') as f:\n",
        "\n",
        "      print(f.read())\n",
        "print(deposit_Func(100))\n",
        "print(withDraw_function(50))\n",
        "print(check_Available_Balance())\n",
        "print(display_transaction())\n",
        "# print(account)\n",
        "\n"
      ],
      "metadata": {
        "colab": {
          "base_uri": "https://localhost:8080/"
        },
        "id": "D4xmFbPNhaFF",
        "outputId": "9ee66fe5-61e4-4eb7-e020-19f4915a4e45"
      },
      "execution_count": 7,
      "outputs": [
        {
          "output_type": "stream",
          "name": "stdout",
          "text": [
            "transaction added successfully of Rs 100\n",
            "transaction withdrwal sucessful of 50\n",
            "Available Balance is: 50.0\n",
            "transaction of Rs 100 added to the history \n",
            " \n",
            "transaction of Rs 100 added to the history \n",
            " \n",
            "transaction of Rs 100 added to the history \n",
            " \n",
            "transaction of Rs 100 added to the history \n",
            " \n",
            "transaction of Rs 100 added to the history \n",
            " \n",
            "transaction of Rs 100 added to the history \n",
            " \n",
            "transaction of Rs 100 added to the history \n",
            " \n",
            "\n",
            "None\n"
          ]
        }
      ]
    },
    {
      "cell_type": "code",
      "source": [],
      "metadata": {
        "id": "aElspSnQ-HLN"
      },
      "execution_count": null,
      "outputs": []
    }
  ]
}